{
 "cells": [
  {
   "cell_type": "code",
   "execution_count": 2,
   "metadata": {},
   "outputs": [],
   "source": [
    "import pickle as pkl\n",
    "import numpy as np"
   ]
  },
  {
   "cell_type": "code",
   "execution_count": 9,
   "metadata": {},
   "outputs": [
    {
     "name": "stderr",
     "output_type": "stream",
     "text": [
      "/home/derekmei233/miniconda/envs/libsignal/lib/python3.9/site-packages/tqdm/auto.py:22: TqdmWarning: IProgress not found. Please update jupyter and ipywidgets. See https://ipywidgets.readthedocs.io/en/stable/user_install.html\n",
      "  from .autonotebook import tqdm as notebook_tqdm\n"
     ]
    },
    {
     "ename": "IndentationError",
     "evalue": "expected an indented block (SFM.py, line 15)",
     "output_type": "error",
     "traceback": [
      "Traceback \u001b[0;36m(most recent call last)\u001b[0m:\n",
      "  File \u001b[1;32m~/miniconda/envs/libsignal/lib/python3.9/site-packages/IPython/core/interactiveshell.py:3398\u001b[0m in \u001b[1;35mrun_code\u001b[0m\n    exec(code_obj, self.user_global_ns, self.user_ns)\n",
      "  Input \u001b[1;32mIn [9]\u001b[0m in \u001b[1;35m<cell line: 1>\u001b[0m\n    from predictionModel.SFM import sfm_prediction\n",
      "\u001b[0;36m  File \u001b[0;32m~/easypredict/predictionModel/__init__.py:2\u001b[0;36m in \u001b[0;35m<module>\u001b[0;36m\u001b[0m\n\u001b[0;31m    from . import SFM\u001b[0m\n",
      "\u001b[0;36m  File \u001b[0;32m~/easypredict/predictionModel/SFM.py:15\u001b[0;36m\u001b[0m\n\u001b[0;31m    def sfm_prediction(feature, mask, relation):\u001b[0m\n\u001b[0m    ^\u001b[0m\n\u001b[0;31mIndentationError\u001b[0m\u001b[0;31m:\u001b[0m expected an indented block\n"
     ]
    }
   ],
   "source": [
    "from predictionModel.SFM import sfm_prediction"
   ]
  },
  {
   "cell_type": "code",
   "execution_count": 3,
   "metadata": {},
   "outputs": [],
   "source": [
    "from world import World\n",
    "from utils.preparation import build_relation"
   ]
  },
  {
   "cell_type": "code",
   "execution_count": 4,
   "metadata": {},
   "outputs": [
    {
     "name": "stdout",
     "output_type": "stream",
     "text": [
      "building world...\n",
      "creating intersections...\n",
      "intersections created.\n",
      "parsing roads...\n",
      "roads parsed.\n",
      "world built.\n",
      "relationship generated\n"
     ]
    }
   ],
   "source": [
    "config_file = 'cityflow_hz4x4.cfg'\n",
    "world = World(config_file, thread_num=8)\n",
    "relation = build_relation(world)"
   ]
  },
  {
   "cell_type": "code",
   "execution_count": 5,
   "metadata": {},
   "outputs": [],
   "source": [
    "states = np.random.randint(0, 10, [16, 12])"
   ]
  },
  {
   "cell_type": "code",
   "execution_count": 6,
   "metadata": {},
   "outputs": [],
   "source": [
    "phases = np.random.randint(0, 8, [16])"
   ]
  },
  {
   "cell_type": "code",
   "execution_count": 7,
   "metadata": {},
   "outputs": [],
   "source": [
    "from utils.preparation import inter2edge_slice"
   ]
  },
  {
   "cell_type": "code",
   "execution_count": 8,
   "metadata": {},
   "outputs": [],
   "source": [
    "masked = inter2edge_slice(relation, states, phases, [])"
   ]
  },
  {
   "cell_type": "code",
   "execution_count": 9,
   "metadata": {},
   "outputs": [
    {
     "data": {
      "text/plain": [
       "{'intersection_1_1': ['road_1_2_3', 'road_2_1_2', 'road_1_0_1', 'road_0_1_0'],\n",
       " 'intersection_1_2': ['road_1_3_3', 'road_2_2_2', 'road_1_1_1', 'road_0_2_0'],\n",
       " 'intersection_1_3': ['road_1_4_3', 'road_2_3_2', 'road_1_2_1', 'road_0_3_0'],\n",
       " 'intersection_1_4': ['road_1_5_3', 'road_2_4_2', 'road_1_3_1', 'road_0_4_0'],\n",
       " 'intersection_2_1': ['road_2_2_3', 'road_3_1_2', 'road_2_0_1', 'road_1_1_0'],\n",
       " 'intersection_2_2': ['road_2_3_3', 'road_3_2_2', 'road_2_1_1', 'road_1_2_0'],\n",
       " 'intersection_2_3': ['road_2_4_3', 'road_3_3_2', 'road_2_2_1', 'road_1_3_0'],\n",
       " 'intersection_2_4': ['road_2_5_3', 'road_3_4_2', 'road_2_3_1', 'road_1_4_0'],\n",
       " 'intersection_3_1': ['road_3_2_3', 'road_4_1_2', 'road_3_0_1', 'road_2_1_0'],\n",
       " 'intersection_3_2': ['road_3_3_3', 'road_4_2_2', 'road_3_1_1', 'road_2_2_0'],\n",
       " 'intersection_3_3': ['road_3_4_3', 'road_4_3_2', 'road_3_2_1', 'road_2_3_0'],\n",
       " 'intersection_3_4': ['road_3_5_3', 'road_4_4_2', 'road_3_3_1', 'road_2_4_0'],\n",
       " 'intersection_4_1': ['road_4_2_3', 'road_5_1_2', 'road_4_0_1', 'road_3_1_0'],\n",
       " 'intersection_4_2': ['road_4_3_3', 'road_5_2_2', 'road_4_1_1', 'road_3_2_0'],\n",
       " 'intersection_4_3': ['road_4_4_3', 'road_5_3_2', 'road_4_2_1', 'road_3_3_0'],\n",
       " 'intersection_4_4': ['road_4_5_3', 'road_5_4_2', 'road_4_3_1', 'road_3_4_0']}"
      ]
     },
     "execution_count": 9,
     "metadata": {},
     "output_type": "execute_result"
    }
   ],
   "source": [
    "relation['inter_in_roads']"
   ]
  },
  {
   "cell_type": "code",
   "execution_count": 17,
   "metadata": {},
   "outputs": [
    {
     "name": "stdout",
     "output_type": "stream",
     "text": [
      "81\n"
     ]
    }
   ],
   "source": []
  },
  {
   "cell_type": "code",
   "execution_count": null,
   "metadata": {},
   "outputs": [],
   "source": []
  }
 ],
 "metadata": {
  "kernelspec": {
   "display_name": "Python 3.9.0 ('libsignal')",
   "language": "python",
   "name": "python3"
  },
  "language_info": {
   "codemirror_mode": {
    "name": "ipython",
    "version": 3
   },
   "file_extension": ".py",
   "mimetype": "text/x-python",
   "name": "python",
   "nbconvert_exporter": "python",
   "pygments_lexer": "ipython3",
   "version": "3.9.0"
  },
  "orig_nbformat": 4,
  "vscode": {
   "interpreter": {
    "hash": "007d46e82d3179340aa75ec94d549f17d72597a33c03072ff1927547041e0e55"
   }
  }
 },
 "nbformat": 4,
 "nbformat_minor": 2
}
